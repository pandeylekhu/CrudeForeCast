{
 "cells": [
  {
   "cell_type": "code",
   "execution_count": 1,
   "metadata": {},
   "outputs": [
    {
     "name": "stderr",
     "output_type": "stream",
     "text": [
      "Using TensorFlow backend.\n"
     ]
    }
   ],
   "source": [
    "import os\n",
    "import numpy as np\n",
    "from datetime import datetime, timedelta\n",
    "from gensim.models import Word2Vec\n",
    "from gensim.utils import simple_preprocess\n",
    "from gensim.models.keyedvectors import KeyedVectors\n",
    "\n",
    "from keras.activations import relu\n",
    "from keras.models import Sequential, Model\n",
    "from keras.layers import Input, Dense, Embedding, Flatten, Conv1D, MaxPooling1D\n",
    "from keras.layers import Dropout, concatenate\n",
    "from keras.utils.vis_utils import model_to_dot\n",
    "\n",
    "from sklearn.metrics import classification_report\n",
    "\n",
    "from IPython.display import SVG\n",
    "\n",
    "import random\n",
    "\n",
    "from collections import namedtuple\n",
    "\n",
    "from sklearn.preprocessing import LabelEncoder\n",
    "\n",
    "from keras.preprocessing.text import Tokenizer\n",
    "from keras.preprocessing.sequence import pad_sequences\n",
    "from keras.utils import to_categorical"
   ]
  },
  {
   "cell_type": "code",
   "execution_count": 2,
   "metadata": {},
   "outputs": [],
   "source": [
    "import pandas as pd\n",
    "import sklearn\n",
    "from sklearn.model_selection import train_test_split\n",
    "from sklearn.metrics import classification_report, accuracy_score, confusion_matrix\n",
    "\n",
    "import matplotlib.pyplot as plt"
   ]
  },
  {
   "cell_type": "code",
   "execution_count": 102,
   "metadata": {},
   "outputs": [],
   "source": [
    "def compute_metrics(raw_predictions, label_encoder):\n",
    "    # convert raw predictions to class indexes\n",
    "    threshold = 0.5\n",
    "    class_predictions = [(x > threshold).astype(int) for x in raw_predictions]\n",
    "\n",
    "    # select only one class (i.e., the dim in the vector with 1.0 all other are at 0.0)\n",
    "    class_index = ([np.argmax(x) for x in class_predictions])\n",
    "\n",
    "    # convert back to original class names\n",
    "    pred_classes = label_encoder.inverse_transform(class_index)\n",
    "\n",
    "    # print precision, recall, f1-score report\n",
    "    print(classification_report(y_test, pred_classes))\n",
    "\n",
    "def load_fasttext_embeddings():\n",
    "    glove_dir = '../Data/Processed_Data/glove.6B'\n",
    "    embeddings_index = {}\n",
    "    f = open(os.path.join(glove_dir, 'glove.6B.300d.txt'),encoding = \"utf8\")\n",
    "    for line in f:\n",
    "        values = line.split()\n",
    "        word = values[0]\n",
    "        coefs = np.asarray(values[1:], dtype='float32')\n",
    "        embeddings_index[word] = coefs\n",
    "    f.close()\n",
    "    print('Loaded %s word vectors.' % len(embeddings_index))\n",
    "    return embeddings_index\n",
    "\n",
    "def create_embeddings_matrix(embeddings_index, vocabulary, embedding_dim=300):\n",
    "    embeddings_matrix = np.random.rand(len(vocabulary)+1, embedding_dim)\n",
    "    for i, word in enumerate(vocabulary):\n",
    "        embedding_vector = embeddings_index.get(word)\n",
    "        if embedding_vector is not None:\n",
    "            embeddings_matrix[i] = embedding_vector\n",
    "    print('Matrix shape: {}'.format(embeddings_matrix.shape))\n",
    "    return embeddings_matrix\n",
    "\n",
    "\n",
    "def get_embeddings_layer(embeddings_matrix, name, max_len, trainable=False):\n",
    "    embedding_layer = Embedding(\n",
    "        input_dim=embeddings_matrix.shape[0],\n",
    "        output_dim=embeddings_matrix.shape[1],\n",
    "        input_length=max_len,\n",
    "        weights=[embeddings_matrix],\n",
    "        trainable=trainable,\n",
    "        name=name)\n",
    "    return embedding_layer\n",
    "\n",
    "\n",
    "def get_conv_pool(x_input, max_len, suffix, n_grams=[3,4,5], feature_maps=300):\n",
    "    branches = []\n",
    "    for n in n_grams:\n",
    "        branch = Conv1D(filters=feature_maps, kernel_size=n, activation=relu, name='Conv_'+suffix+'_'+str(n))(x_input)\n",
    "        branch = MaxPooling1D(pool_size=max_len-n+1, strides=None, padding='valid', name='MaxPooling_'+suffix+'_'+str(n))(branch)\n",
    "        branch = Flatten(name='Flatten_'+suffix+'_'+str(n))(branch)\n",
    "        branches.append(branch)\n",
    "    return branches"
   ]
  },
  {
   "cell_type": "code",
   "execution_count": 103,
   "metadata": {},
   "outputs": [],
   "source": [
    "def get_cnn_pre_trained_embeddings(embedding_layer, max_len, num_classes):\n",
    "    # connect the input with the embedding layer\n",
    "    i = Input(shape=(max_len,), dtype='int32', name='main_input')\n",
    "    x = embedding_layer(i)\n",
    "\n",
    "    # generate several branches in the network, each for a different convolution+pooling operation,\n",
    "    # and concatenate the result of each branch into a single vector\n",
    "    branches = get_conv_pool(x, max_len, 'static')\n",
    "    z = concatenate(branches, axis=-1)\n",
    "\n",
    "    # pass the concatenated vector to the predition layer\n",
    "    o = Dense(num_classes, activation='sigmoid', name='output')(z)\n",
    "\n",
    "    model = Model(inputs=i, outputs=o)\n",
    "    model.compile(loss={'output': 'binary_crossentropy'}, optimizer='adam', metrics=['accuracy'])\n",
    "\n",
    "    return model"
   ]
  },
  {
   "cell_type": "code",
   "execution_count": 140,
   "metadata": {},
   "outputs": [],
   "source": [
    "def get_date_features(df):\n",
    "    df['Month']=df.Date.dt.month\n",
    "    df['Day']=df.Date.dt.day\n",
    "    df['Year']=df.Date.dt.year\n",
    "    df['DayOfWeek']=df.Date.dt.dayofweek\n",
    "    df['DayOfYear']=df.Date.dt.dayofyear\n",
    "    df['WeekOfYear']=df.Date.dt.weekofyear\n",
    "    return df"
   ]
  },
  {
   "cell_type": "code",
   "execution_count": 189,
   "metadata": {},
   "outputs": [
    {
     "name": "stderr",
     "output_type": "stream",
     "text": [
      "C:\\Users\\Lekhu\\AppData\\Roaming\\Python\\Python37\\site-packages\\ipykernel_launcher.py:2: SettingWithCopyWarning: \n",
      "A value is trying to be set on a copy of a slice from a DataFrame.\n",
      "Try using .loc[row_indexer,col_indexer] = value instead\n",
      "\n",
      "See the caveats in the documentation: http://pandas.pydata.org/pandas-docs/stable/user_guide/indexing.html#returning-a-view-versus-a-copy\n",
      "  \n",
      "C:\\Users\\Lekhu\\AppData\\Roaming\\Python\\Python37\\site-packages\\ipykernel_launcher.py:3: SettingWithCopyWarning: \n",
      "A value is trying to be set on a copy of a slice from a DataFrame.\n",
      "Try using .loc[row_indexer,col_indexer] = value instead\n",
      "\n",
      "See the caveats in the documentation: http://pandas.pydata.org/pandas-docs/stable/user_guide/indexing.html#returning-a-view-versus-a-copy\n",
      "  This is separate from the ipykernel package so we can avoid doing imports until\n",
      "C:\\Users\\Lekhu\\AppData\\Roaming\\Python\\Python37\\site-packages\\ipykernel_launcher.py:4: SettingWithCopyWarning: \n",
      "A value is trying to be set on a copy of a slice from a DataFrame.\n",
      "Try using .loc[row_indexer,col_indexer] = value instead\n",
      "\n",
      "See the caveats in the documentation: http://pandas.pydata.org/pandas-docs/stable/user_guide/indexing.html#returning-a-view-versus-a-copy\n",
      "  after removing the cwd from sys.path.\n",
      "C:\\Users\\Lekhu\\AppData\\Roaming\\Python\\Python37\\site-packages\\ipykernel_launcher.py:5: SettingWithCopyWarning: \n",
      "A value is trying to be set on a copy of a slice from a DataFrame.\n",
      "Try using .loc[row_indexer,col_indexer] = value instead\n",
      "\n",
      "See the caveats in the documentation: http://pandas.pydata.org/pandas-docs/stable/user_guide/indexing.html#returning-a-view-versus-a-copy\n",
      "  \"\"\"\n",
      "C:\\Users\\Lekhu\\AppData\\Roaming\\Python\\Python37\\site-packages\\ipykernel_launcher.py:6: SettingWithCopyWarning: \n",
      "A value is trying to be set on a copy of a slice from a DataFrame.\n",
      "Try using .loc[row_indexer,col_indexer] = value instead\n",
      "\n",
      "See the caveats in the documentation: http://pandas.pydata.org/pandas-docs/stable/user_guide/indexing.html#returning-a-view-versus-a-copy\n",
      "  \n",
      "C:\\Users\\Lekhu\\AppData\\Roaming\\Python\\Python37\\site-packages\\ipykernel_launcher.py:7: SettingWithCopyWarning: \n",
      "A value is trying to be set on a copy of a slice from a DataFrame.\n",
      "Try using .loc[row_indexer,col_indexer] = value instead\n",
      "\n",
      "See the caveats in the documentation: http://pandas.pydata.org/pandas-docs/stable/user_guide/indexing.html#returning-a-view-versus-a-copy\n",
      "  import sys\n"
     ]
    }
   ],
   "source": [
    "to_datetime = lambda d: datetime.strptime(d, \"%Y-%m-%d\")\n",
    "input_data=pd.read_csv('../Data/Processed_Data/input_data_for_cnn.csv',sep='|',converters={'Date': to_datetime},encoding = \"ISO-8859-1\")\n",
    "# input_data=pd.read_csv('../Data/Processed_Data/input_data_for_cnn.csv',sep='|',encoding = \"ISO-8859-1\")\n",
    "train_data=input_data[input_data.Date<'2019-01-01']\n",
    "test_data=input_data[input_data.Date.between('2019-01-01','2019-05-31',inclusive=True)]\n",
    "validation_data=input_data[input_data.Date>='2019-06-01']\n",
    "train_data=get_date_features(train_data)\n",
    "test_data=get_date_features(test_data)\n",
    "validation_data=get_date_features(validation_data)\n",
    "\n",
    "train_data.reset_index(inplace=True)\n",
    "test_data.reset_index(inplace=True)\n",
    "validation_data.reset_index(inplace=True)\n",
    "input_data={}"
   ]
  },
  {
   "cell_type": "code",
   "execution_count": 190,
   "metadata": {},
   "outputs": [
    {
     "name": "stdout",
     "output_type": "stream",
     "text": [
      "Found 7140 unique tokens.\n"
     ]
    }
   ],
   "source": [
    "tokenizer = Tokenizer()\n",
    "tokenizer.fit_on_texts(train_data.Cleaned_HL)\n",
    "sequences_train = tokenizer.texts_to_sequences(train_data.Cleaned_HL)\n",
    "word_index = tokenizer.word_index\n",
    "print('Found %s unique tokens.' % len(word_index))"
   ]
  },
  {
   "cell_type": "code",
   "execution_count": 191,
   "metadata": {},
   "outputs": [],
   "source": [
    "max_input_len = max([len(x) for x in train_data.Cleaned_HL])\n",
    "x_train_data_padded = pad_sequences(sequences_train, maxlen=max_input_len, padding='post', truncating='post')\n",
    "x_test_data_padded = pad_sequences(tokenizer.texts_to_sequences(test_data.Cleaned_HL), maxlen=max_input_len, padding='post', truncating='post')\n",
    "x_val_data_padded = pad_sequences(tokenizer.texts_to_sequences(validation_data.Cleaned_HL), maxlen=max_input_len, padding='post', truncating='post')"
   ]
  },
  {
   "cell_type": "code",
   "execution_count": 198,
   "metadata": {},
   "outputs": [],
   "source": [
    "x_train_with_dt=pd.DataFrame(x_train_data_padded).join(train_data[['Month', 'Day', 'Year', 'DayOfWeek','DayOfYear', 'WeekOfYear']]).to_numpy()\n",
    "x_test_with_dt=pd.DataFrame(x_test_data_padded).join(train_data[['Month', 'Day', 'Year', 'DayOfWeek','DayOfYear', 'WeekOfYear']]).to_numpy()\n",
    "x_val_with_dt=pd.DataFrame(x_val_data_padded).join(train_data[['Month', 'Day', 'Year', 'DayOfWeek','DayOfYear', 'WeekOfYear']]).to_numpy()"
   ]
  },
  {
   "cell_type": "code",
   "execution_count": 199,
   "metadata": {},
   "outputs": [],
   "source": [
    "le = LabelEncoder()\n",
    "le.fit(train_data.MoveMent)\n",
    "y_train_encoded=to_categorical(le.transform(train_data.MoveMent), num_classes=None)\n",
    "y_test_encoded=to_categorical(le.transform(test_data.MoveMent), num_classes=None)\n",
    "y_val_encoded=to_categorical(le.transform(validation_data.MoveMent), num_classes=None)"
   ]
  },
  {
   "cell_type": "code",
   "execution_count": 200,
   "metadata": {},
   "outputs": [
    {
     "name": "stdout",
     "output_type": "stream",
     "text": [
      "(14050, 98)\n",
      "(14050, 3)\n"
     ]
    }
   ],
   "source": [
    "print(x_train_data_padded.shape)\n",
    "print(y_train_encoded.shape)"
   ]
  },
  {
   "cell_type": "code",
   "execution_count": 205,
   "metadata": {},
   "outputs": [
    {
     "name": "stdout",
     "output_type": "stream",
     "text": [
      "Loaded 400000 word vectors.\n",
      "Matrix shape: (7141, 300)\n"
     ]
    }
   ],
   "source": [
    "embeddings_index = load_fasttext_embeddings()\n",
    "embeddings_matrix = create_embeddings_matrix(embeddings_index, word_index)\n",
    "# embedding_layer_static = get_embeddings_layer(embeddings_matrix, 'embedding_layer_static', max_input_len, trainable=False)\n",
    "# model = get_cnn_pre_trained_embeddings(embedding_layer_static, max_input_len,3)\n",
    "embedding_layer_static = get_embeddings_layer(embeddings_matrix, 'embedding_layer_static', 104, trainable=False)\n",
    "model = get_cnn_pre_trained_embeddings(embedding_layer_static, 104,3)"
   ]
  },
  {
   "cell_type": "code",
   "execution_count": 206,
   "metadata": {},
   "outputs": [
    {
     "name": "stdout",
     "output_type": "stream",
     "text": [
      "Epoch 1/5\n",
      "14050/14050 [==============================] - 283s 20ms/step - loss: 0.4033 - accuracy: 0.7894\n",
      "Epoch 2/5\n",
      "14050/14050 [==============================] - 341s 24ms/step - loss: 0.1765 - accuracy: 0.9393\n",
      "Epoch 3/5\n",
      "14050/14050 [==============================] - 405s 29ms/step - loss: 0.0630 - accuracy: 0.9857\n",
      "Epoch 4/5\n",
      "14050/14050 [==============================] - 429s 31ms/step - loss: 0.0209 - accuracy: 0.9980\n",
      "Epoch 5/5\n",
      "14050/14050 [==============================] - 514s 37ms/step - loss: 0.0076 - accuracy: 0.9999\n"
     ]
    }
   ],
   "source": [
    "# history = model.fit(x=x_train_data_padded, y=y_train_encoded, batch_size=50, epochs=5)\n",
    "history = model.fit(x=x_train_with_dt, y=y_train_encoded, batch_size=50, epochs=5)"
   ]
  },
  {
   "cell_type": "code",
   "execution_count": 207,
   "metadata": {},
   "outputs": [
    {
     "name": "stdout",
     "output_type": "stream",
     "text": [
      "14050/14050 [==============================] - 230s 16ms/step\n",
      "Training Accuracy: 1.0000\n",
      "Testing Accuracy:  0.6842\n"
     ]
    }
   ],
   "source": [
    "# loss, accuracy = model.evaluate(x_train_data_padded, y_train_encoded, verbose=True)\n",
    "loss, accuracy = model.evaluate(x_train_with_dt, y_train_encoded, verbose=True)\n",
    "print(\"Training Accuracy: {:.4f}\".format(accuracy))\n",
    "# loss, accuracy = model.evaluate(x_test_data_padded, y_test_encoded, verbose=False)\n",
    "loss, accuracy = model.evaluate(x_test_with_dt, y_test_encoded, verbose=False)\n",
    "print(\"Testing Accuracy:  {:.4f}\".format(accuracy))"
   ]
  },
  {
   "cell_type": "code",
   "execution_count": 208,
   "metadata": {},
   "outputs": [
    {
     "name": "stdout",
     "output_type": "stream",
     "text": [
      "              precision    recall  f1-score   support\n",
      "\n",
      "        down       0.44      0.52      0.47       438\n",
      "  nomovement       0.00      0.00      0.00         0\n",
      "          up       0.63      0.53      0.58       643\n",
      "\n",
      "   micro avg       0.53      0.53      0.53      1081\n",
      "   macro avg       0.35      0.35      0.35      1081\n",
      "weighted avg       0.55      0.53      0.54      1081\n",
      "\n"
     ]
    },
    {
     "name": "stderr",
     "output_type": "stream",
     "text": [
      "C:\\ProgramData\\Anaconda3\\lib\\site-packages\\sklearn\\metrics\\classification.py:1145: UndefinedMetricWarning: Recall and F-score are ill-defined and being set to 0.0 in labels with no true samples.\n",
      "  'recall', 'true', average, warn_for)\n"
     ]
    }
   ],
   "source": [
    "raw_predictions = model.predict(x_test_with_dt)\n",
    "class_predictions = [np.argmax(x) for x in raw_predictions]\n",
    "print(classification_report(le.transform(test_data.MoveMent), class_predictions,labels=[0,1,2],target_names=le.classes_))"
   ]
  },
  {
   "cell_type": "code",
   "execution_count": 33,
   "metadata": {},
   "outputs": [
    {
     "name": "stdout",
     "output_type": "stream",
     "text": [
      "              precision    recall  f1-score   support\n",
      "\n",
      "        down       0.42      0.61      0.50       438\n",
      "  nomovement       0.00      0.00      0.00         0\n",
      "          up       0.61      0.42      0.50       643\n",
      "\n",
      "   micro avg       0.50      0.50      0.50      1081\n",
      "   macro avg       0.34      0.34      0.33      1081\n",
      "weighted avg       0.53      0.50      0.50      1081\n",
      "\n"
     ]
    }
   ],
   "source": [
    "raw_predictions = model.predict(x_test_data_padded)\n",
    "class_predictions = [np.argmax(x) for x in raw_predictions]\n",
    "print(classification_report(le.transform(test_data.MoveMent), class_predictions,labels=[0,1,2],target_names=le.classes_))"
   ]
  },
  {
   "cell_type": "code",
   "execution_count": 37,
   "metadata": {},
   "outputs": [
    {
     "data": {
      "text/plain": [
       "array([[267, 171],\n",
       "       [371, 272]], dtype=int64)"
      ]
     },
     "execution_count": 37,
     "metadata": {},
     "output_type": "execute_result"
    }
   ],
   "source": [
    "from sklearn.metrics import confusion_matrix\n",
    "confusion_matrix(le.transform(test_data.MoveMent), class_predictions)"
   ]
  },
  {
   "cell_type": "code",
   "execution_count": 36,
   "metadata": {},
   "outputs": [
    {
     "name": "stdout",
     "output_type": "stream",
     "text": [
      "Help on function classification_report in module sklearn.metrics.classification:\n",
      "\n",
      "classification_report(y_true, y_pred, labels=None, target_names=None, sample_weight=None, digits=2, output_dict=False)\n",
      "    Build a text report showing the main classification metrics\n",
      "    \n",
      "    Read more in the :ref:`User Guide <classification_report>`.\n",
      "    \n",
      "    Parameters\n",
      "    ----------\n",
      "    y_true : 1d array-like, or label indicator array / sparse matrix\n",
      "        Ground truth (correct) target values.\n",
      "    \n",
      "    y_pred : 1d array-like, or label indicator array / sparse matrix\n",
      "        Estimated targets as returned by a classifier.\n",
      "    \n",
      "    labels : array, shape = [n_labels]\n",
      "        Optional list of label indices to include in the report.\n",
      "    \n",
      "    target_names : list of strings\n",
      "        Optional display names matching the labels (same order).\n",
      "    \n",
      "    sample_weight : array-like of shape = [n_samples], optional\n",
      "        Sample weights.\n",
      "    \n",
      "    digits : int\n",
      "        Number of digits for formatting output floating point values.\n",
      "        When ``output_dict`` is ``True``, this will be ignored and the\n",
      "        returned values will not be rounded.\n",
      "    \n",
      "    output_dict : bool (default = False)\n",
      "        If True, return output as dict\n",
      "    \n",
      "    Returns\n",
      "    -------\n",
      "    report : string / dict\n",
      "        Text summary of the precision, recall, F1 score for each class.\n",
      "        Dictionary returned if output_dict is True. Dictionary has the\n",
      "        following structure::\n",
      "    \n",
      "            {'label 1': {'precision':0.5,\n",
      "                         'recall':1.0,\n",
      "                         'f1-score':0.67,\n",
      "                         'support':1},\n",
      "             'label 2': { ... },\n",
      "              ...\n",
      "            }\n",
      "    \n",
      "        The reported averages include micro average (averaging the\n",
      "        total true positives, false negatives and false positives), macro\n",
      "        average (averaging the unweighted mean per label), weighted average\n",
      "        (averaging the support-weighted mean per label) and sample average\n",
      "        (only for multilabel classification). See also\n",
      "        :func:`precision_recall_fscore_support` for more details on averages.\n",
      "    \n",
      "        Note that in binary classification, recall of the positive class\n",
      "        is also known as \"sensitivity\"; recall of the negative class is\n",
      "        \"specificity\".\n",
      "    \n",
      "    Examples\n",
      "    --------\n",
      "    >>> from sklearn.metrics import classification_report\n",
      "    >>> y_true = [0, 1, 2, 2, 2]\n",
      "    >>> y_pred = [0, 0, 2, 2, 1]\n",
      "    >>> target_names = ['class 0', 'class 1', 'class 2']\n",
      "    >>> print(classification_report(y_true, y_pred, target_names=target_names))\n",
      "                  precision    recall  f1-score   support\n",
      "    <BLANKLINE>\n",
      "         class 0       0.50      1.00      0.67         1\n",
      "         class 1       0.00      0.00      0.00         1\n",
      "         class 2       1.00      0.67      0.80         3\n",
      "    <BLANKLINE>\n",
      "       micro avg       0.60      0.60      0.60         5\n",
      "       macro avg       0.50      0.56      0.49         5\n",
      "    weighted avg       0.70      0.60      0.61         5\n",
      "    <BLANKLINE>\n",
      "\n"
     ]
    }
   ],
   "source": [
    "help(classification_report)"
   ]
  }
 ],
 "metadata": {
  "kernelspec": {
   "display_name": "Python 3",
   "language": "python",
   "name": "python3"
  },
  "language_info": {
   "codemirror_mode": {
    "name": "ipython",
    "version": 3
   },
   "file_extension": ".py",
   "mimetype": "text/x-python",
   "name": "python",
   "nbconvert_exporter": "python",
   "pygments_lexer": "ipython3",
   "version": "3.7.3"
  }
 },
 "nbformat": 4,
 "nbformat_minor": 2
}
